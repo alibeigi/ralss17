{
 "cells": [
  {
   "cell_type": "markdown",
   "metadata": {},
   "source": [
    "# Contents\n",
    "\n",
    "## Ex1. MNIST Logistic Regression    \n",
    "* Python basics\n",
    "* How to load data into the Tensor variables\n",
    "* How to operate tensors\n",
    "* How to do optimization\n",
    "\n",
    "## Ex2. MNIST classification with Convolutional Neural Networks\n",
    "* Learn operators for the convolutional neural networks\n",
    "    \n",
    "## Ex3. Using pre-trained model (VGG16, ResNet) for the Semantic segmentation  \n",
    "* TF-slim\n",
    "* TFrecord\n",
    "* Pre-trained model\n",
    "* Fine-tuning with custom datasets\n",
    "    * We wanna use real datasets we used for ARC2017\n",
    "    \n",
    "## Resources\n",
    "* FCNs with TF-slim: http://warmspringwinds.github.io/tensorflow/tf-slim/2017/01/23/fully-convolutional-networks-(fcns)-for-image-segmentation/\n",
    "\n",
    "* TF-Slim walkthrough: https://github.com/tensorflow/models/blob/master/slim/slim_walkthrough.ipynb\n",
    "\n",
    "* TF-slim: https://github.com/tensorflow/models/tree/master/slim"
   ]
  },
  {
   "cell_type": "markdown",
   "metadata": {},
   "source": [
    "# To Do List\n",
    "\n",
    "* Ge"
   ]
  },
  {
   "cell_type": "code",
   "execution_count": null,
   "metadata": {
    "collapsed": true
   },
   "outputs": [],
   "source": []
  }
 ],
 "metadata": {
  "kernelspec": {
   "display_name": "Python 2",
   "language": "python",
   "name": "python2"
  },
  "language_info": {
   "codemirror_mode": {
    "name": "ipython",
    "version": 2
   },
   "file_extension": ".py",
   "mimetype": "text/x-python",
   "name": "python",
   "nbconvert_exporter": "python",
   "pygments_lexer": "ipython2",
   "version": "2.7.6"
  }
 },
 "nbformat": 4,
 "nbformat_minor": 2
}
