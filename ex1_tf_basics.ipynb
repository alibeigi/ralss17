{
 "cells": [
  {
   "cell_type": "markdown",
   "metadata": {},
   "source": [
    "# Contents\n",
    "## TensorFlow Basics\n",
    "* What is tensors?\n",
    "* How to do maths\n",
    "* How to make tensors from your data\n",
    "* How to make a network\n",
    "* How to do training\n",
    "\n",
    "## Neural Nets\n",
    "* Logistic Regressions\n",
    "* Multi-Layer Perceptrons (MLP)\n",
    "* Convolutional Neural Networks (CNNs)\n",
    "\n",
    "## Semantic Segmentations\n"
   ]
  },
  {
   "cell_type": "code",
   "execution_count": null,
   "metadata": {
    "collapsed": true
   },
   "outputs": [],
   "source": []
  }
 ],
 "metadata": {
  "kernelspec": {
   "display_name": "Python 2",
   "language": "python",
   "name": "python2"
  },
  "language_info": {
   "codemirror_mode": {
    "name": "ipython",
    "version": 2
   },
   "file_extension": ".py",
   "mimetype": "text/x-python",
   "name": "python",
   "nbconvert_exporter": "python",
   "pygments_lexer": "ipython2",
   "version": "2.7.6"
  }
 },
 "nbformat": 4,
 "nbformat_minor": 2
}
