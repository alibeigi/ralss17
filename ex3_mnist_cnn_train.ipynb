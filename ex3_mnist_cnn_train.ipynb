{
 "cells": [
  {
   "cell_type": "markdown",
   "metadata": {},
   "source": [
    "## MNIST Convolutional Neural Networks\n",
    "### Goals\n",
    "* TensorFlow (TF) CNNs\n",
    "* Training / valication curves\n",
    "\n",
    "### Contents\n",
    "* How to use TF operators\n",
    "* How to build a neural network model with TF\n",
    "* How to check the model is overfitted while training"
   ]
  },
  {
   "cell_type": "code",
   "execution_count": 1,
   "metadata": {
    "collapsed": true
   },
   "outputs": [],
   "source": [
    "import numpy as np\n",
    "import matplotlib.pyplot as plt\n",
    "import tensorflow as tf\n",
    "from tensorflow.examples.tutorials.mnist import input_data\n",
    "%matplotlib inline  "
   ]
  },
  {
   "cell_type": "code",
   "execution_count": 2,
   "metadata": {
    "collapsed": true
   },
   "outputs": [],
   "source": [
    "# Model parameters\n",
    "# input\n",
    "n_input_width = 28\n",
    "n_input_height = 28\n",
    "n_input_channel = 1\n",
    "\n",
    "# 1st convolutional layer\n",
    "n_conv1_patch_size = 3 \n",
    "n_conv1_filter = 64\n",
    "\n",
    "# 2nd convolutional layer\n",
    "n_conv2_patch_size = 3 \n",
    "n_conv2_filter = 64\n",
    "\n",
    "# fully connected output layer\n",
    "n_output  = 10 "
   ]
  },
  {
   "cell_type": "markdown",
   "metadata": {},
   "source": [
    "### DRAW HERE! Convolutional filter variable size"
   ]
  },
  {
   "cell_type": "code",
   "execution_count": 3,
   "metadata": {
    "collapsed": true
   },
   "outputs": [],
   "source": [
    "# input and output placeholders\n",
    "x = tf.placeholder(tf.float32, [None, n_input_width * n_input_height * n_input_channel])\n",
    "y = tf.placeholder(tf.float32, [None, n_output])\n",
    "\n",
    "# 1st convolutional layer variables\n",
    "wc1 = tf.Variable(tf.random_normal([n_conv1_patch_size, n_conv1_patch_size, n_input_channel, n_conv1_filter], stddev=0.1))\n",
    "bc1 = tf.Variable(tf.random_normal([n_conv1_filter], stddev=0.1))\n",
    "\n",
    "# 2nd convolutional layer variables\n",
    "wc2 = tf.Variable(tf.random_normal([n_conv2_patch_size, n_conv2_patch_size, n_conv1_filter, n_conv2_filter], stddev=0.1))\n",
    "bc2 = tf.Variable(tf.random_normal([n_conv2_filter], stddev=0.1))\n",
    "\n",
    "# fully connected output layer\n",
    "# size reduced by four (2 pooling layers)\n",
    "wf = tf.Variable(tf.random_normal([(n_input_width/4)*(n_input_height/4)*n_conv2_filter, n_output], stddev=0.1))\n",
    "bf = tf.Variable(tf.random_normal([n_output], stddev=0.1))"
   ]
  },
  {
   "cell_type": "code",
   "execution_count": 4,
   "metadata": {
    "collapsed": true
   },
   "outputs": [],
   "source": [
    "# Reshape input: one hot vector to w x w x c tensor\n",
    "input_r = tf.reshape(x, shape=[-1, n_input_width, n_input_width, n_input_channel])\n",
    "\n",
    "# 1st Convolution layer: conv + bias + relu + pooling\n",
    "# TensorFlow operators for CNNs\n",
    "# https://www.tensorflow.org/api_guides/python/nn#Convolution\n",
    "conv1 = tf.nn.conv2d(input_r, wc1, strides=[1, 1, 1, 1], padding='SAME')\n",
    "bias1 = tf.nn.bias_add(conv1, bc1)\n",
    "relu1 = tf.nn.relu(bias1)\n",
    "pool1  = tf.nn.max_pool(relu1, ksize=[1, 2, 2, 1], strides=[1, 2, 2, 1], padding='SAME')\n",
    "\n",
    "# 2nd Convolution layer\n",
    "conv2 = tf.nn.conv2d(pool1, wc2, strides=[1, 1, 1, 1], padding='SAME')\n",
    "bias2 = tf.nn.bias_add(conv2, bc2)\n",
    "relu2 = tf.nn.relu(bias2)\n",
    "pool2  = tf.nn.max_pool(relu2, ksize=[1, 2, 2, 1], strides=[1, 2, 2, 1], padding='SAME')\n",
    "\n",
    "# Vectorize\n",
    "dense = tf.reshape(pool2, [-1, wf.get_shape().as_list()[0]])\n",
    "\n",
    "# Fully-connected layer\n",
    "logits = tf.add(tf.matmul(dense, wf), bf)"
   ]
  },
  {
   "cell_type": "code",
   "execution_count": 5,
   "metadata": {},
   "outputs": [],
   "source": [
    "# cost function and accuracy\n",
    "cost = tf.reduce_mean(tf.nn.softmax_cross_entropy_with_logits(logits=logits, labels=y))\n",
    "corr = tf.equal(tf.argmax(logits, 1), tf.argmax(y, 1))    \n",
    "accr = tf.reduce_mean(tf.cast(corr, \"float\"))"
   ]
  },
  {
   "cell_type": "code",
   "execution_count": 6,
   "metadata": {
    "collapsed": true
   },
   "outputs": [],
   "source": [
    "# Optimizer\n",
    "learn_rate   = 0.001\n",
    "optm = tf.train.AdamOptimizer(learn_rate).minimize(cost)"
   ]
  },
  {
   "cell_type": "code",
   "execution_count": 7,
   "metadata": {},
   "outputs": [
    {
     "name": "stdout",
     "output_type": "stream",
     "text": [
      "Extracting data/train-images-idx3-ubyte.gz\n",
      "Extracting data/train-labels-idx1-ubyte.gz\n",
      "Extracting data/t10k-images-idx3-ubyte.gz\n",
      "Extracting data/t10k-labels-idx1-ubyte.gz\n"
     ]
    }
   ],
   "source": [
    "# Load dataset\n",
    "mnist = input_data.read_data_sets('data/', one_hot=True)\n",
    "trainImg   = mnist.train.images\n",
    "trainLabel = mnist.train.labels\n",
    "testImg    = mnist.test.images\n",
    "testLabel  = mnist.test.labels"
   ]
  },
  {
   "cell_type": "code",
   "execution_count": 8,
   "metadata": {
    "collapsed": true
   },
   "outputs": [],
   "source": [
    "# Initialize the graph\n",
    "init = tf.global_variables_initializer()\n",
    "sess = tf.Session()\n",
    "sess.run(init)\n",
    "\n",
    "# Training cycle\n",
    "training_epochs = 20\n",
    "batch_size      = 100\n",
    "\n",
    "# Saver \n",
    "save_step = 10;\n",
    "saver = tf.train.Saver(max_to_keep=training_epochs) \n",
    "save_cost_train = []\n",
    "save_cost_test = []\n",
    "save_accr_train = []\n",
    "save_accr_test = []"
   ]
  },
  {
   "cell_type": "code",
   "execution_count": 9,
   "metadata": {},
   "outputs": [
    {
     "name": "stdout",
     "output_type": "stream",
     "text": [
      "Epoch: 000/020\n",
      " Train cost: 0.254956580 accuracy: 0.923\n",
      " Test  cost: 0.072711943 accuracy: 0.977\n",
      "Epoch: 001/020\n",
      " Train cost: 0.064100152 accuracy: 0.980\n",
      " Test  cost: 0.047569367 accuracy: 0.985\n",
      "Epoch: 002/020\n",
      " Train cost: 0.043949587 accuracy: 0.986\n",
      " Test  cost: 0.041038073 accuracy: 0.987\n",
      "Epoch: 003/020\n",
      " Train cost: 0.033633826 accuracy: 0.990\n",
      " Test  cost: 0.043713845 accuracy: 0.986\n",
      "Epoch: 004/020\n",
      " Train cost: 0.027839697 accuracy: 0.992\n",
      " Test  cost: 0.036438632 accuracy: 0.987\n",
      "Epoch: 005/020\n",
      " Train cost: 0.021209063 accuracy: 0.994\n",
      " Test  cost: 0.032638622 accuracy: 0.989\n",
      "Epoch: 006/020\n",
      " Train cost: 0.017363110 accuracy: 0.995\n",
      " Test  cost: 0.036684049 accuracy: 0.988\n",
      "Epoch: 007/020\n",
      " Train cost: 0.014316047 accuracy: 0.996\n",
      " Test  cost: 0.031956062 accuracy: 0.990\n",
      "Epoch: 008/020\n",
      " Train cost: 0.011357366 accuracy: 0.997\n",
      " Test  cost: 0.037013591 accuracy: 0.989\n",
      "Epoch: 009/020\n",
      " Train cost: 0.009555685 accuracy: 0.997\n",
      " Test  cost: 0.034631296 accuracy: 0.990\n",
      "Epoch: 010/020\n",
      " Train cost: 0.007523726 accuracy: 0.998\n",
      " Test  cost: 0.030733857 accuracy: 0.990\n",
      "Epoch: 011/020\n",
      " Train cost: 0.005631273 accuracy: 0.999\n",
      " Test  cost: 0.036084500 accuracy: 0.990\n",
      "Epoch: 012/020\n",
      " Train cost: 0.004624245 accuracy: 0.999\n",
      " Test  cost: 0.039150852 accuracy: 0.989\n",
      "Epoch: 013/020\n",
      " Train cost: 0.003534207 accuracy: 0.999\n",
      " Test  cost: 0.040463964 accuracy: 0.989\n",
      "Epoch: 014/020\n",
      " Train cost: 0.003276651 accuracy: 0.999\n",
      " Test  cost: 0.039266982 accuracy: 0.990\n",
      "Epoch: 015/020\n",
      " Train cost: 0.002261054 accuracy: 1.000\n",
      " Test  cost: 0.041060310 accuracy: 0.990\n",
      "Epoch: 016/020\n",
      " Train cost: 0.002747197 accuracy: 1.000\n",
      " Test  cost: 0.036859668 accuracy: 0.990\n",
      "Epoch: 017/020\n",
      " Train cost: 0.002162712 accuracy: 1.000\n",
      " Test  cost: 0.041475889 accuracy: 0.989\n",
      "Epoch: 018/020\n",
      " Train cost: 0.000863466 accuracy: 1.000\n",
      " Test  cost: 0.040447767 accuracy: 0.991\n",
      "Epoch: 019/020\n",
      " Train cost: 0.001478301 accuracy: 1.000\n",
      " Test  cost: 0.039657075 accuracy: 0.991\n",
      "Optimization Finished.\n"
     ]
    }
   ],
   "source": [
    "# Training\n",
    "for epoch in range(training_epochs):    \n",
    "    cost_train_avg = 0.\n",
    "    accr_train_avg = 0.\n",
    "    num_batch = int(mnist.train.num_examples/batch_size)\n",
    "    # Loop over all batches\n",
    "    for i in range(num_batch):\n",
    "        batch_xs, batch_ys = mnist.train.next_batch(batch_size)        \n",
    "        # Fit training using batch data\n",
    "        sess.run(optm, feed_dict={x: batch_xs, y: batch_ys})\n",
    "        # Training cost\n",
    "        cost_train_avg += sess.run(cost, feed_dict={x: batch_xs, y: batch_ys})/num_batch\n",
    "        accr_train_avg += sess.run(accr, feed_dict={x: batch_xs, y: batch_ys})/num_batch\n",
    "        \n",
    "    # Display logs per epoch step \n",
    "    save_cost_train.append(cost_train_avg)\n",
    "    save_accr_train.append(accr_train_avg)\n",
    "    print (\"Epoch: %03d/%03d\" % (epoch, training_epochs))\n",
    "    print (\" Train cost: %.9f accuracy: %.3f\" % (cost_train_avg, accr_train_avg))\n",
    "    \n",
    "    # Test\n",
    "    num_batch = int(mnist.test.num_examples/batch_size)\n",
    "    cost_test_avg = 0.\n",
    "    accr_test_avg = 0.\n",
    "    for i in range(num_batch):\n",
    "        batch_xs, batch_ys = mnist.test.next_batch(batch_size)\n",
    "        cost_test_avg += sess.run(cost, feed_dict={x: batch_xs, y: batch_ys})/num_batch\n",
    "        accr_test_avg += sess.run(accr, feed_dict={x: batch_xs, y: batch_ys})/num_batch\n",
    "    \n",
    "    save_cost_test.append(cost_test_avg)\n",
    "    save_accr_test.append(accr_test_avg)\n",
    "    print (\" Test  cost: %.9f accuracy: %.3f\" % (cost_test_avg, accr_test_avg))\n",
    "\n",
    "    # Save Net\n",
    "    if epoch % save_step == 0:\n",
    "        saver.save(sess, \"net/cnn_mnist.ckpt-\" + str(epoch))\n",
    "\n",
    "print (\"Optimization Finished.\")"
   ]
  },
  {
   "cell_type": "code",
   "execution_count": 11,
   "metadata": {},
   "outputs": [
    {
     "data": {
      "text/plain": [
       "[<matplotlib.lines.Line2D at 0x7fe52a6d5750>,\n",
       " <matplotlib.lines.Line2D at 0x7fe52a6d59d0>]"
      ]
     },
     "execution_count": 11,
     "metadata": {},
     "output_type": "execute_result"
    },
    {
     "data": {
      "image/png": "[encoded data removed]",
      "text/plain": [
       "<matplotlib.figure.Figure at 0x7fe59851aad0>"
      ]
     },
     "metadata": {},
     "output_type": "display_data"
    }
   ],
   "source": [
    "# Traininig curve\n",
    "epochs = range(training_epochs)\n",
    "plt.subplot(211)\n",
    "plt.plot(epochs, save_cost_train, epochs, save_cost_test)\n",
    "plt.subplot(212)\n",
    "plt.plot(epochs, save_accr_train, epochs, save_accr_test)"
   ]
  },
  {
   "cell_type": "code",
   "execution_count": 12,
   "metadata": {},
   "outputs": [
    {
     "data": {
      "text/plain": [
       "10"
      ]
     },
     "execution_count": 12,
     "metadata": {},
     "output_type": "execute_result"
    }
   ],
   "source": [
    "np.argmin(save_cost_test)"
   ]
  }
 ],
 "metadata": {
  "kernelspec": {
   "display_name": "Python 2",
   "language": "python",
   "name": "python2"
  },
  "language_info": {
   "codemirror_mode": {
    "name": "ipython",
    "version": 2
   },
   "file_extension": ".py",
   "mimetype": "text/x-python",
   "name": "python",
   "nbconvert_exporter": "python",
   "pygments_lexer": "ipython2",
   "version": "2.7.6"
  }
 },
 "nbformat": 4,
 "nbformat_minor": 2
}
