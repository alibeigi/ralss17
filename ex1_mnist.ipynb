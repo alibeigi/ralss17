{
 "cells": [
  {
   "cell_type": "markdown",
   "metadata": {},
   "source": [
    "## MNIST dataset\n",
    "### Goals\n",
    "* Python basics\n",
    "\n",
    "### Contents\n",
    "* How to download dataset\n",
    "* How to access and visualize the data"
   ]
  },
  {
   "cell_type": "code",
   "execution_count": 1,
   "metadata": {},
   "outputs": [],
   "source": [
    "# Python library importing\n",
    "import numpy as np\n",
    "import matplotlib.pyplot as plt\n",
    "from tensorflow.examples.tutorials.mnist import input_data\n",
    "\n",
    "%matplotlib inline  "
   ]
  },
  {
   "cell_type": "code",
   "execution_count": 2,
   "metadata": {},
   "outputs": [
    {
     "name": "stdout",
     "output_type": "stream",
     "text": [
      "Extracting data/train-images-idx3-ubyte.gz\n",
      "Extracting data/train-labels-idx1-ubyte.gz\n",
      "Extracting data/t10k-images-idx3-ubyte.gz\n",
      "Extracting data/t10k-labels-idx1-ubyte.gz\n"
     ]
    }
   ],
   "source": [
    "# Download MNIST dataset\n",
    "mnist = input_data.read_data_sets('data/', one_hot=True)"
   ]
  },
  {
   "cell_type": "code",
   "execution_count": 3,
   "metadata": {
    "collapsed": true
   },
   "outputs": [],
   "source": [
    "# Extract MNIST dataset\n",
    "trainImg = mnist.train.images\n",
    "trainLabel = mnist.train.labels\n",
    "testImg = mnist.test.images\n",
    "testLabel = mnist.test.labels\n",
    "\n",
    "# Here mnist dataset is encoded as a ndarray type of numpy. "
   ]
  },
  {
   "cell_type": "code",
   "execution_count": 4,
   "metadata": {},
   "outputs": [
    {
     "name": "stdout",
     "output_type": "stream",
     "text": [
      " type of 'trainimg' is <type 'numpy.ndarray'>\n",
      " type of 'trainlabel' is <type 'numpy.ndarray'>\n",
      " type of 'testimg' is <type 'numpy.ndarray'>\n",
      " type of 'testlabel' is <type 'numpy.ndarray'>\n",
      " shape of 'trainimg' is (55000, 784)\n",
      " shape of 'trainlabel' is (55000, 10)\n",
      " shape of 'testimg' is (10000, 784)\n",
      " shape of 'testlabel' is (10000, 10)\n"
     ]
    }
   ],
   "source": [
    "# Check the size of MNIST dataset\n",
    "print (\" type of 'trainimg' is %s\"    % (type(trainImg)))\n",
    "print (\" type of 'trainlabel' is %s\"  % (type(trainLabel)))\n",
    "print (\" type of 'testimg' is %s\"     % (type(testImg)))\n",
    "print (\" type of 'testlabel' is %s\"   % (type(testLabel)))\n",
    "print (\" shape of 'trainimg' is %s\"   % (trainImg.shape,))\n",
    "print (\" shape of 'trainlabel' is %s\" % (trainLabel.shape,))\n",
    "print (\" shape of 'testimg' is %s\"    % (testImg.shape,))\n",
    "print (\" shape of 'testlabel' is %s\"  % (testLabel.shape,))"
   ]
  },
  {
   "cell_type": "code",
   "execution_count": 5,
   "metadata": {},
   "outputs": [
    {
     "name": "stdout",
     "output_type": "stream",
     "text": [
      "50875th Training Data Label is 5\n",
      "9976th Training Data Label is 4\n",
      "7360th Training Data Label is 0\n"
     ]
    },
    {
     "data": {
      "image/png": "[encoded data removed]",
      "text/plain": [
       "<matplotlib.figure.Figure at 0x7f89fc86b450>"
      ]
     },
     "metadata": {},
     "output_type": "display_data"
    },
    {
     "data": {
      "image/png": "[encoded data removed]",
      "text/plain": [
       "<matplotlib.figure.Figure at 0x7f89fc795b90>"
      ]
     },
     "metadata": {},
     "output_type": "display_data"
    },
    {
     "data": {
      "image/png": "[encoded data removed]",
      "text/plain": [
       "<matplotlib.figure.Figure at 0x7f89fc795b50>"
      ]
     },
     "metadata": {},
     "output_type": "display_data"
    }
   ],
   "source": [
    "# How does the training data look like?\n",
    "nsample = 3\n",
    "randidx = np.random.randint(trainImg.shape[0], size=nsample)\n",
    "\n",
    "for i in randidx:\n",
    "    curr_img   = np.reshape(trainImg[i, :], (28, 28)) # 28 by 28 matrix \n",
    "    curr_label = np.argmax(trainLabel[i, :] ) # Label\n",
    "    plt.matshow(curr_img, cmap=plt.get_cmap('gray'))\n",
    "    plt.title(\"\" + str(i) + \"th Training Data \" + \"Label is \" + str(curr_label))\n",
    "    print (\"\" + str(i) + \"th Training Data \" + \"Label is \" + str(curr_label))"
   ]
  }
 ],
 "metadata": {
  "kernelspec": {
   "display_name": "Python 2",
   "language": "python",
   "name": "python2"
  },
  "language_info": {
   "codemirror_mode": {
    "name": "ipython",
    "version": 2
   },
   "file_extension": ".py",
   "mimetype": "text/x-python",
   "name": "python",
   "nbconvert_exporter": "python",
   "pygments_lexer": "ipython2",
   "version": "2.7.6"
  }
 },
 "nbformat": 4,
 "nbformat_minor": 2
}
