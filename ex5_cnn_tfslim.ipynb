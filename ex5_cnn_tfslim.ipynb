{
 "cells": [
  {
   "cell_type": "markdown",
   "metadata": {},
   "source": [
    "## Implementing CNN with TFSlim \n",
    "### Goals\n",
    "* Learn how to use TFSlim\n",
    "\n",
    "### Contents\n",
    "* Building 2-layered CNN with TFSlim and batch normalization to prevent over-fitting"
   ]
  },
  {
   "cell_type": "code",
   "execution_count": 1,
   "metadata": {},
   "outputs": [
    {
     "name": "stderr",
     "output_type": "stream",
     "text": [
      "/usr/lib/python2.7/dist-packages/matplotlib/font_manager.py:273: UserWarning: Matplotlib is building the font cache using fc-list. This may take a moment.\n",
      "  warnings.warn('Matplotlib is building the font cache using fc-list. This may take a moment.')\n"
     ]
    }
   ],
   "source": [
    "import numpy as np\n",
    "import tensorflow as tf\n",
    "from tensorflow.examples.tutorials.mnist import input_data\n",
    "from tensorflow.contrib import slim\n",
    "import matplotlib.pyplot as plt\n",
    "\n",
    "%matplotlib inline"
   ]
  },
  {
   "cell_type": "code",
   "execution_count": 2,
   "metadata": {
    "collapsed": true
   },
   "outputs": [],
   "source": [
    "# Model parameters\n",
    "# input\n",
    "n_input_width = 28\n",
    "n_input_height = 28\n",
    "n_input_channel = 1\n",
    "\n",
    "# 1st convolutional layer\n",
    "n_conv1_patch_size = 3 \n",
    "n_conv1_filter = 64\n",
    "\n",
    "# 2nd convolutional layer\n",
    "n_conv2_patch_size = 3 \n",
    "n_conv2_filter = 64\n",
    "\n",
    "# fully connected output layer\n",
    "n_output  = 10 "
   ]
  },
  {
   "cell_type": "code",
   "execution_count": 3,
   "metadata": {
    "collapsed": true
   },
   "outputs": [],
   "source": [
    "x = tf.placeholder(tf.float32, [None, n_input_width * n_input_height * n_input_channel])\n",
    "y = tf.placeholder(tf.float32, [None, n_output])\n",
    "inputs = tf.reshape(x, shape=[-1, n_input_width, n_input_width, n_input_channel])\n",
    "\n",
    "end_points = {}"
   ]
  },
  {
   "cell_type": "code",
   "execution_count": 4,
   "metadata": {
    "collapsed": true
   },
   "outputs": [],
   "source": [
    "slim.conv2d?"
   ]
  },
  {
   "cell_type": "code",
   "execution_count": 5,
   "metadata": {
    "collapsed": true
   },
   "outputs": [],
   "source": [
    "# convolution layers with tf.slim\n",
    "net = slim.conv2d(inputs, n_conv1_filter, [n_conv1_patch_size, n_conv1_patch_size], normalizer_fn=slim.batch_norm)\n",
    "net = slim.max_pool2d(net, [3, 3])\n",
    "end_points['conv1'] = net\n",
    "\n",
    "net = slim.conv2d(net, n_conv2_filter, [n_conv1_patch_size, n_conv1_patch_size], normalizer_fn=slim.batch_norm)\n",
    "net = slim.max_pool2d(net, [3, 3])\n",
    "end_points['conv2'] = net\n",
    "\n",
    "net = slim.flatten(net)\n",
    "logits = slim.fully_connected(net, n_output, normalizer_fn=slim.batch_norm, activation_fn=None)   \n",
    "end_points['logits'] = logits"
   ]
  },
  {
   "cell_type": "code",
   "execution_count": 6,
   "metadata": {},
   "outputs": [
    {
     "name": "stdout",
     "output_type": "stream",
     "text": [
      "Layers\n",
      "name = MaxPool2D_1/MaxPool:0, shape = (?, 6, 6, 64)\n",
      "name = MaxPool2D/MaxPool:0, shape = (?, 13, 13, 64)\n",
      "name = fully_connected/BatchNorm/batchnorm/add_1:0, shape = (?, 10)\n",
      "\n",
      "\n",
      "Parameters\n",
      "name = Conv/weights:0, shape = (3, 3, 1, 64)\n",
      "name = Conv/BatchNorm/beta:0, shape = (64,)\n",
      "name = Conv/BatchNorm/moving_mean:0, shape = (64,)\n",
      "name = Conv/BatchNorm/moving_variance:0, shape = (64,)\n",
      "name = Conv_1/weights:0, shape = (3, 3, 64, 64)\n",
      "name = Conv_1/BatchNorm/beta:0, shape = (64,)\n",
      "name = Conv_1/BatchNorm/moving_mean:0, shape = (64,)\n",
      "name = Conv_1/BatchNorm/moving_variance:0, shape = (64,)\n",
      "name = fully_connected/weights:0, shape = (2304, 10)\n",
      "name = fully_connected/BatchNorm/beta:0, shape = (10,)\n",
      "name = fully_connected/BatchNorm/moving_mean:0, shape = (10,)\n",
      "name = fully_connected/BatchNorm/moving_variance:0, shape = (10,)\n"
     ]
    }
   ],
   "source": [
    "# Print name and shape of each tensor.\n",
    "print(\"Layers\")\n",
    "for k, v in end_points.items():\n",
    "    print('name = {}, shape = {}'.format(v.name, v.get_shape()))\n",
    "\n",
    "# Print name and shape of parameter nodes  (values not yet initialized)\n",
    "print(\"\\n\")\n",
    "print(\"Parameters\")\n",
    "for v in slim.get_model_variables():\n",
    "    print('name = {}, shape = {}'.format(v.name, v.get_shape()))"
   ]
  },
  {
   "cell_type": "code",
   "execution_count": 7,
   "metadata": {
    "collapsed": true
   },
   "outputs": [],
   "source": [
    "# cost function and accuracy\n",
    "cost = tf.reduce_mean(tf.nn.softmax_cross_entropy_with_logits(logits=logits, labels=y))\n",
    "corr = tf.equal(tf.argmax(logits, 1), tf.argmax(y, 1))    \n",
    "accr = tf.reduce_mean(tf.cast(corr, \"float\"))"
   ]
  },
  {
   "cell_type": "code",
   "execution_count": 8,
   "metadata": {
    "collapsed": true
   },
   "outputs": [],
   "source": [
    "# Optimizer\n",
    "learn_rate   = 0.001\n",
    "optm = tf.train.AdamOptimizer(learn_rate).minimize(cost)"
   ]
  },
  {
   "cell_type": "code",
   "execution_count": 9,
   "metadata": {},
   "outputs": [
    {
     "name": "stdout",
     "output_type": "stream",
     "text": [
      "Successfully downloaded train-images-idx3-ubyte.gz 9912422 bytes.\n",
      "Extracting data/train-images-idx3-ubyte.gz\n",
      "Successfully downloaded train-labels-idx1-ubyte.gz 28881 bytes.\n",
      "Extracting data/train-labels-idx1-ubyte.gz\n",
      "Successfully downloaded t10k-images-idx3-ubyte.gz 1648877 bytes.\n",
      "Extracting data/t10k-images-idx3-ubyte.gz\n",
      "Successfully downloaded t10k-labels-idx1-ubyte.gz 4542 bytes.\n",
      "Extracting data/t10k-labels-idx1-ubyte.gz\n"
     ]
    }
   ],
   "source": [
    "# Load dataset\n",
    "mnist = input_data.read_data_sets('data/', one_hot=True)\n",
    "trainImg   = mnist.train.images\n",
    "trainLabel = mnist.train.labels\n",
    "testImg    = mnist.test.images\n",
    "testLabel  = mnist.test.labels"
   ]
  },
  {
   "cell_type": "code",
   "execution_count": 12,
   "metadata": {
    "collapsed": true
   },
   "outputs": [],
   "source": [
    "# Initialize the graph\n",
    "init = tf.global_variables_initializer()\n",
    "sess = tf.Session()\n",
    "sess.run(init)\n",
    "\n",
    "# Training cycle\n",
    "training_epochs = 20\n",
    "batch_size      = 128\n",
    "\n",
    "# Saver \n",
    "save_step = 10;\n",
    "saver = tf.train.Saver(max_to_keep=training_epochs) \n",
    "save_cost_train = []\n",
    "save_cost_test = []\n",
    "save_accr_train = []\n",
    "save_accr_test = []"
   ]
  },
  {
   "cell_type": "code",
   "execution_count": 13,
   "metadata": {},
   "outputs": [
    {
     "name": "stdout",
     "output_type": "stream",
     "text": [
      "Epoch: 000/020\n",
      " Train cost: 0.499164507 accuracy: 0.970\n",
      " Test  cost: 0.430383784 accuracy: 0.985\n",
      "Epoch: 001/020\n",
      " Train cost: 0.417551923 accuracy: 0.988\n",
      " Test  cost: 0.412326107 accuracy: 0.988\n",
      "Epoch: 002/020\n",
      " Train cost: 0.401793965 accuracy: 0.991\n",
      " Test  cost: 0.401750239 accuracy: 0.989\n",
      "Epoch: 003/020\n",
      " Train cost: 0.393083470 accuracy: 0.992\n",
      " Test  cost: 0.397823221 accuracy: 0.991\n",
      "Epoch: 004/020\n",
      " Train cost: 0.387192156 accuracy: 0.993\n",
      " Test  cost: 0.396527149 accuracy: 0.992\n",
      "Epoch: 005/020\n",
      " Train cost: 0.384999803 accuracy: 0.994\n",
      " Test  cost: 0.388791650 accuracy: 0.990\n",
      "Epoch: 006/020\n",
      " Train cost: 0.380185204 accuracy: 0.994\n",
      " Test  cost: 0.391750291 accuracy: 0.991\n",
      "Epoch: 007/020\n",
      " Train cost: 0.377580919 accuracy: 0.995\n",
      " Test  cost: 0.384652294 accuracy: 0.991\n",
      "Epoch: 008/020\n",
      " Train cost: 0.375703621 accuracy: 0.995\n",
      " Test  cost: 0.385721594 accuracy: 0.991\n",
      "Epoch: 009/020\n",
      " Train cost: 0.373923159 accuracy: 0.995\n",
      " Test  cost: 0.381278959 accuracy: 0.991\n",
      "Epoch: 010/020\n",
      " Train cost: 0.372055199 accuracy: 0.995\n",
      " Test  cost: 0.383957602 accuracy: 0.992\n",
      "Epoch: 011/020\n",
      " Train cost: 0.370606479 accuracy: 0.995\n",
      " Test  cost: 0.383810755 accuracy: 0.991\n",
      "Epoch: 012/020\n",
      " Train cost: 0.369223287 accuracy: 0.996\n",
      " Test  cost: 0.380974448 accuracy: 0.991\n",
      "Epoch: 013/020\n",
      " Train cost: 0.368433067 accuracy: 0.996\n",
      " Test  cost: 0.382225363 accuracy: 0.992\n",
      "Epoch: 014/020\n",
      " Train cost: 0.367027847 accuracy: 0.996\n",
      " Test  cost: 0.382295152 accuracy: 0.991\n",
      "Epoch: 015/020\n",
      " Train cost: 0.367351353 accuracy: 0.996\n",
      " Test  cost: 0.380571441 accuracy: 0.990\n",
      "Epoch: 016/020\n",
      " Train cost: 0.365576647 accuracy: 0.996\n",
      " Test  cost: 0.382617203 accuracy: 0.991\n",
      "Epoch: 017/020\n",
      " Train cost: 0.365840971 accuracy: 0.997\n",
      " Test  cost: 0.381328352 accuracy: 0.992\n",
      "Epoch: 018/020\n",
      " Train cost: 0.363799855 accuracy: 0.997\n",
      " Test  cost: 0.381186680 accuracy: 0.991\n",
      "Epoch: 019/020\n",
      " Train cost: 0.363602501 accuracy: 0.997\n",
      " Test  cost: 0.378668691 accuracy: 0.991\n",
      "Optimization Finished.\n"
     ]
    }
   ],
   "source": [
    "# Training\n",
    "for epoch in range(training_epochs):    \n",
    "    cost_train_avg = 0.\n",
    "    accr_train_avg = 0.\n",
    "    num_batch = int(mnist.train.num_examples/batch_size)\n",
    "    # Loop over all batches\n",
    "    for i in range(num_batch):\n",
    "        batch_xs, batch_ys = mnist.train.next_batch(batch_size)        \n",
    "        # Fit training using batch data\n",
    "        sess.run(optm, feed_dict={x: batch_xs, y: batch_ys})\n",
    "        # Training cost\n",
    "        cost_train_avg += sess.run(cost, feed_dict={x: batch_xs, y: batch_ys})/num_batch\n",
    "        accr_train_avg += sess.run(accr, feed_dict={x: batch_xs, y: batch_ys})/num_batch\n",
    "        \n",
    "    # Display logs per epoch step \n",
    "    save_cost_train.append(cost_train_avg)\n",
    "    save_accr_train.append(accr_train_avg)\n",
    "    print (\"Epoch: %03d/%03d\" % (epoch, training_epochs))\n",
    "    print (\" Train cost: %.9f accuracy: %.3f\" % (cost_train_avg, accr_train_avg))\n",
    "    \n",
    "    # Test\n",
    "    num_batch = int(mnist.test.num_examples/batch_size)\n",
    "    cost_test_avg = 0.\n",
    "    accr_test_avg = 0.\n",
    "    for i in range(num_batch):\n",
    "        batch_xs, batch_ys = mnist.test.next_batch(batch_size)\n",
    "        cost_test_avg += sess.run(cost, feed_dict={x: batch_xs, y: batch_ys})/num_batch\n",
    "        accr_test_avg += sess.run(accr, feed_dict={x: batch_xs, y: batch_ys})/num_batch\n",
    "    \n",
    "    save_cost_test.append(cost_test_avg)\n",
    "    save_accr_test.append(accr_test_avg)\n",
    "    print (\" Test  cost: %.9f accuracy: %.3f\" % (cost_test_avg, accr_test_avg))\n",
    "\n",
    "    # Save Net\n",
    "    if epoch % save_step == 0:\n",
    "        saver.save(sess, \"net/cnn_mnist.ckpt-\" + str(epoch))\n",
    "\n",
    "print (\"Optimization Finished.\")"
   ]
  },
  {
   "cell_type": "code",
   "execution_count": 14,
   "metadata": {},
   "outputs": [
    {
     "data": {
      "text/plain": [
       "[<matplotlib.lines.Line2D at 0x7f7b5cce5390>,\n",
       " <matplotlib.lines.Line2D at 0x7f7b5cce5590>]"
      ]
     },
     "execution_count": 14,
     "metadata": {},
     "output_type": "execute_result"
    },
    {
     "data": {
      "image/png": "[encoded data removed]",
      "text/plain": [
       "<matplotlib.figure.Figure at 0x7f7b650e1d90>"
      ]
     },
     "metadata": {},
     "output_type": "display_data"
    }
   ],
   "source": [
    "# Traininig curve\n",
    "epochs = range(training_epochs)\n",
    "plt.subplot(211)\n",
    "plt.plot(epochs, save_cost_train, epochs, save_cost_test)\n",
    "plt.subplot(212)\n",
    "plt.plot(epochs, save_accr_train, epochs, save_accr_test)"
   ]
  },
  {
   "cell_type": "code",
   "execution_count": 15,
   "metadata": {},
   "outputs": [
    {
     "data": {
      "text/plain": [
       "19"
      ]
     },
     "execution_count": 15,
     "metadata": {},
     "output_type": "execute_result"
    }
   ],
   "source": [
    "np.argmin(save_cost_test)"
   ]
  },
  {
   "cell_type": "code",
   "execution_count": null,
   "metadata": {
    "collapsed": true
   },
   "outputs": [],
   "source": []
  }
 ],
 "metadata": {
  "kernelspec": {
   "display_name": "Python 2",
   "language": "python",
   "name": "python2"
  },
  "language_info": {
   "codemirror_mode": {
    "name": "ipython",
    "version": 2
   },
   "file_extension": ".py",
   "mimetype": "text/x-python",
   "name": "python",
   "nbconvert_exporter": "python",
   "pygments_lexer": "ipython2",
   "version": "2.7.12"
  }
 },
 "nbformat": 4,
 "nbformat_minor": 2
}
