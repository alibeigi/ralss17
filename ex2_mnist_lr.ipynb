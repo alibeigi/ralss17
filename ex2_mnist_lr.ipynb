{
 "cells": [
  {
   "cell_type": "markdown",
   "metadata": {},
   "source": [
    "## MNIST Logistic Regression\n",
    "### Goals\n",
    "* TensorFlow (TF) basics\n",
    "\n",
    "### Contents\n",
    "* How to use TF operators\n",
    "* How to build a neural network model with TF"
   ]
  },
  {
   "cell_type": "code",
   "execution_count": 1,
   "metadata": {
    "collapsed": true
   },
   "outputs": [],
   "source": [
    "# import\n",
    "import numpy as np\n",
    "import tensorflow as tf\n",
    "import matplotlib.pyplot as plt\n",
    "from tensorflow.examples.tutorials.mnist import input_data\n",
    "%matplotlib inline  "
   ]
  },
  {
   "cell_type": "code",
   "execution_count": 2,
   "metadata": {},
   "outputs": [
    {
     "data": {
      "text/plain": [
       "TensorShape([Dimension(2), Dimension(2)])"
      ]
     },
     "execution_count": 2,
     "metadata": {},
     "output_type": "execute_result"
    }
   ],
   "source": [
    "# What is a tensor?\n",
    "# https://www.tensorflow.org/api_docs/python/tf/Tensor\n",
    "c = tf.constant([[1.0, 2.0], [3.0, 4.0]])\n",
    "c?\n",
    "c.shape"
   ]
  },
  {
   "cell_type": "code",
   "execution_count": 3,
   "metadata": {
    "collapsed": true
   },
   "outputs": [],
   "source": [
    "# What is tf operators?\n",
    "# https://www.tensorflow.org/api_guides/python/math_ops\n",
    "d = tf.constant([[1.0, 1.0], [0.0, 1.0]])\n",
    "e = tf.matmul(c, d)"
   ]
  },
  {
   "cell_type": "code",
   "execution_count": 4,
   "metadata": {},
   "outputs": [
    {
     "name": "stdout",
     "output_type": "stream",
     "text": [
      "[[ 1.  3.]\n",
      " [ 3.  7.]]\n"
     ]
    }
   ],
   "source": [
    "# Evaluation\n",
    "sess = tf.Session()\n",
    "result = sess.run(e)    # result is ndarray\n",
    "print(result)"
   ]
  },
  {
   "cell_type": "code",
   "execution_count": 5,
   "metadata": {
    "collapsed": true
   },
   "outputs": [],
   "source": [
    "# Create a static graph for logistic regression\n",
    "# Input and output as tf.placeholder,\n",
    "# and weight variables as tf.Variable\n",
    "x = tf.placeholder(\"float\", [None, 784])\n",
    "y = tf.placeholder(\"float\", [None, 10])\n",
    "\n",
    "# You can initialize the tf variable with other tf tensors\n",
    "W = tf.Variable(tf.zeros([784, 10]))  \n",
    "b = tf.Variable(tf.zeros([10]))\n",
    "\n",
    "logits = tf.matmul(x, W) + b"
   ]
  },
  {
   "cell_type": "code",
   "execution_count": 6,
   "metadata": {},
   "outputs": [],
   "source": [
    "# cost function\n",
    "# https://www.tensorflow.org/api_guides/python/nn#Losses\n",
    "cost = tf.reduce_mean(tf.nn.sigmoid_cross_entropy_with_logits(logits = logits, labels = y))"
   ]
  },
  {
   "cell_type": "code",
   "execution_count": 7,
   "metadata": {},
   "outputs": [],
   "source": [
    "# Optimizer\n",
    "# https://www.tensorflow.org/api_guides/python/train#Optimizers\n",
    "learning_rate = 0.01\n",
    "optimizer = tf.train.GradientDescentOptimizer(learning_rate).minimize(cost)"
   ]
  },
  {
   "cell_type": "code",
   "execution_count": 8,
   "metadata": {},
   "outputs": [],
   "source": [
    "# Accruracy evaluation\n",
    "activation = tf.nn.softmax(logits)\n",
    "correct_prediction = tf.equal(tf.argmax(activation, 1), tf.argmax(y, 1))    \n",
    "accuracy = tf.reduce_mean(tf.cast(correct_prediction, \"float\"))"
   ]
  },
  {
   "cell_type": "code",
   "execution_count": 9,
   "metadata": {},
   "outputs": [
    {
     "name": "stdout",
     "output_type": "stream",
     "text": [
      "Extracting data/train-images-idx3-ubyte.gz\n",
      "Extracting data/train-labels-idx1-ubyte.gz\n",
      "Extracting data/t10k-images-idx3-ubyte.gz\n",
      "Extracting data/t10k-labels-idx1-ubyte.gz\n"
     ]
    }
   ],
   "source": [
    "# Load dataset\n",
    "mnist = input_data.read_data_sets('data/', one_hot=True)\n",
    "trainImg   = mnist.train.images\n",
    "trainLabel = mnist.train.labels\n",
    "testImg    = mnist.test.images\n",
    "testLabel  = mnist.test.labels"
   ]
  },
  {
   "cell_type": "code",
   "execution_count": 10,
   "metadata": {},
   "outputs": [
    {
     "name": "stdout",
     "output_type": "stream",
     "text": [
      "Epoch: 000/050 cost: 0.365272261 train_acc: 0.790\n",
      "Epoch: 001/050 cost: 0.275020964 train_acc: 0.790\n",
      "Epoch: 002/050 cost: 0.244573701 train_acc: 0.780\n",
      "Epoch: 003/050 cost: 0.223518479 train_acc: 0.890\n",
      "Epoch: 004/050 cost: 0.206475283 train_acc: 0.810\n",
      "Epoch: 005/050 cost: 0.194620905 train_acc: 0.790\n",
      "Epoch: 006/050 cost: 0.184346565 train_acc: 0.740\n",
      "Epoch: 007/050 cost: 0.176337680 train_acc: 0.840\n",
      "Epoch: 008/050 cost: 0.169530561 train_acc: 0.950\n",
      "Epoch: 009/050 cost: 0.163206524 train_acc: 0.820\n",
      "Epoch: 010/050 cost: 0.159520144 train_acc: 0.810\n",
      "Epoch: 011/050 cost: 0.155058903 train_acc: 0.830\n",
      "Epoch: 012/050 cost: 0.151150779 train_acc: 0.840\n",
      "Epoch: 013/050 cost: 0.147661464 train_acc: 0.800\n",
      "Epoch: 014/050 cost: 0.145001072 train_acc: 0.860\n",
      "Epoch: 015/050 cost: 0.141542750 train_acc: 0.790\n",
      "Epoch: 016/050 cost: 0.139431452 train_acc: 0.880\n",
      "Epoch: 017/050 cost: 0.136695098 train_acc: 0.820\n",
      "Epoch: 018/050 cost: 0.134212857 train_acc: 0.910\n",
      "Epoch: 019/050 cost: 0.132762196 train_acc: 0.900\n",
      "Epoch: 020/050 cost: 0.130759673 train_acc: 0.830\n",
      "Epoch: 021/050 cost: 0.129789206 train_acc: 0.870\n",
      "Epoch: 022/050 cost: 0.127420365 train_acc: 0.850\n",
      "Epoch: 023/050 cost: 0.127112966 train_acc: 0.850\n",
      "Epoch: 024/050 cost: 0.124709503 train_acc: 0.900\n",
      "Epoch: 025/050 cost: 0.123470338 train_acc: 0.900\n",
      "Epoch: 026/050 cost: 0.121661888 train_acc: 0.880\n",
      "Epoch: 027/050 cost: 0.121795376 train_acc: 0.880\n",
      "Epoch: 028/050 cost: 0.120707787 train_acc: 0.910\n",
      "Epoch: 029/050 cost: 0.119145474 train_acc: 0.820\n",
      "Epoch: 030/050 cost: 0.118103662 train_acc: 0.790\n",
      "Epoch: 031/050 cost: 0.117347587 train_acc: 0.870\n",
      "Epoch: 032/050 cost: 0.115908377 train_acc: 0.880\n",
      "Epoch: 033/050 cost: 0.115026149 train_acc: 0.870\n",
      "Epoch: 034/050 cost: 0.115160622 train_acc: 0.860\n",
      "Epoch: 035/050 cost: 0.112879701 train_acc: 0.890\n",
      "Epoch: 036/050 cost: 0.113234241 train_acc: 0.840\n",
      "Epoch: 037/050 cost: 0.113392432 train_acc: 0.860\n",
      "Epoch: 038/050 cost: 0.111628684 train_acc: 0.910\n",
      "Epoch: 039/050 cost: 0.111505305 train_acc: 0.870\n",
      "Epoch: 040/050 cost: 0.109456977 train_acc: 0.750\n",
      "Epoch: 041/050 cost: 0.109355773 train_acc: 0.840\n",
      "Epoch: 042/050 cost: 0.109037344 train_acc: 0.890\n",
      "Epoch: 043/050 cost: 0.108202006 train_acc: 0.880\n",
      "Epoch: 044/050 cost: 0.108748013 train_acc: 0.830\n",
      "Epoch: 045/050 cost: 0.107989239 train_acc: 0.880\n",
      "Epoch: 046/050 cost: 0.107339157 train_acc: 0.890\n",
      "Epoch: 047/050 cost: 0.106214371 train_acc: 0.900\n",
      "Epoch: 048/050 cost: 0.106194980 train_acc: 0.840\n",
      "Epoch: 049/050 cost: 0.104918097 train_acc: 0.890\n",
      "Optimization Finished!\n"
     ]
    }
   ],
   "source": [
    "# Initialize the graph\n",
    "init = tf.global_variables_initializer()\n",
    "\n",
    "# Training cycle\n",
    "training_epochs = 50\n",
    "batch_size      = 100\n",
    "\n",
    "# save \n",
    "save_cost = []\n",
    "save_accuracy = []\n",
    "\n",
    "with tf.Session() as sess:\n",
    "    sess.run(init)\n",
    "    \n",
    "    for epoch in range(training_epochs):\n",
    "        avg_cost = 0.\n",
    "        num_batch = int(mnist.train.num_examples/batch_size)\n",
    "        # Loop over all batches\n",
    "        for i in range(num_batch): \n",
    "            if 0: # Using tensorflow API\n",
    "                batch_xs, batch_ys = mnist.train.next_batch(batch_size)\n",
    "            else: # Random batch sampling \n",
    "                randidx = np.random.randint(trainImg.shape[0], size=batch_size)\n",
    "                batch_xs = trainImg[randidx, :]\n",
    "                batch_ys = trainLabel[randidx, :]                \n",
    "\n",
    "            # Fit training using batch data\n",
    "            sess.run(optimizer, feed_dict={x: batch_xs, y: batch_ys})\n",
    "            \n",
    "            # Compute average loss\n",
    "            avg_cost += sess.run(cost, feed_dict={x: batch_xs, y: batch_ys})/num_batch\n",
    "        \n",
    "        # accuracy of the trained network\n",
    "        train_acc = accuracy.eval({x: batch_xs, y: batch_ys})\n",
    "        \n",
    "        save_cost.append(avg_cost)\n",
    "        save_accuracy.append(train_acc)\n",
    "        # Display logs per epoch step\n",
    "        print (\"Epoch: %03d/%03d cost: %.9f train_acc: %.3f\" \n",
    "                   % (epoch, training_epochs, avg_cost, train_acc))\n",
    "\n",
    "print (\"Optimization Finished!\")"
   ]
  },
  {
   "cell_type": "code",
   "execution_count": 11,
   "metadata": {},
   "outputs": [
    {
     "data": {
      "text/plain": [
       "[<matplotlib.lines.Line2D at 0x7f991c4bb390>,\n",
       " <matplotlib.lines.Line2D at 0x7f991c51ef10>]"
      ]
     },
     "execution_count": 11,
     "metadata": {},
     "output_type": "execute_result"
    },
    {
     "data": {
      "image/png": "[encoded data removed]",
      "text/plain": [
       "<matplotlib.figure.Figure at 0x7f991c5728d0>"
      ]
     },
     "metadata": {},
     "output_type": "display_data"
    }
   ],
   "source": [
    "# Traininig curve\n",
    "epochs = range(training_epochs)\n",
    "plt.plot(epochs, save_cost, epochs, save_accuracy)"
   ]
  },
  {
   "cell_type": "code",
   "execution_count": null,
   "metadata": {
    "collapsed": true
   },
   "outputs": [],
   "source": []
  }
 ],
 "metadata": {
  "kernelspec": {
   "display_name": "Python 2",
   "language": "python",
   "name": "python2"
  },
  "language_info": {
   "codemirror_mode": {
    "name": "ipython",
    "version": 2
   },
   "file_extension": ".py",
   "mimetype": "text/x-python",
   "name": "python",
   "nbconvert_exporter": "python",
   "pygments_lexer": "ipython2",
   "version": "2.7.6"
  }
 },
 "nbformat": 4,
 "nbformat_minor": 2
}
