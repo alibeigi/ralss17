{
 "cells": [
  {
   "cell_type": "markdown",
   "metadata": {},
   "source": [
    "## Implementing CNN with TFSlim \n",
    "### Goals\n",
    "* Learn how to use TFSlim\n",
    "\n",
    "### Contents\n",
    "* Building 2-layered CNN with TFSlim and batch normalization to prevent over-fitting\n",
    "\n",
    "### TFSlim Installation\n",
    "* https://github.com/tensorflow/models/tree/master/slim#installation\n",
    "``` \n",
    "cd $your_workspace\n",
    "git clone https://github.com/tensorflow/models/\n",
    "export PYTHONPATH=$your_workspace/models/slim\n",
    "```\n"
   ]
  },
  {
   "cell_type": "code",
   "execution_count": 1,
   "metadata": {},
   "outputs": [],
   "source": [
    "from __future__ import absolute_import\n",
    "from __future__ import division\n",
    "from __future__ import print_function\n",
    "\n",
    "import matplotlib\n",
    "%matplotlib inline\n",
    "import matplotlib.pyplot as plt\n",
    "import math\n",
    "import numpy as np\n",
    "import tensorflow as tf\n",
    "import time\n",
    "\n",
    "from tensorflow.examples.tutorials.mnist import input_data\n",
    "from tensorflow.contrib import slim"
   ]
  },
  {
   "cell_type": "code",
   "execution_count": 2,
   "metadata": {
    "collapsed": true
   },
   "outputs": [],
   "source": [
    "# Model parameters\n",
    "# input\n",
    "n_input_width = 28\n",
    "n_input_height = 28\n",
    "n_input_channel = 1\n",
    "\n",
    "# 1st convolutional layer\n",
    "n_conv1_patch_size = 3 \n",
    "n_conv1_filter = 64\n",
    "\n",
    "# 2nd convolutional layer\n",
    "n_conv2_patch_size = 3 \n",
    "n_conv2_filter = 64\n",
    "\n",
    "# fully connected output layer\n",
    "n_output  = 10 "
   ]
  },
  {
   "cell_type": "code",
   "execution_count": 3,
   "metadata": {
    "collapsed": true
   },
   "outputs": [],
   "source": [
    "x = tf.placeholder(tf.float32, [None, n_input_width * n_input_height * n_input_channel])\n",
    "y = tf.placeholder(tf.float32, [None, n_output])\n",
    "inputs = tf.reshape(x, shape=[-1, n_input_width, n_input_width, n_input_channel])\n",
    "\n",
    "end_points = {}\n",
    "is_training = True"
   ]
  },
  {
   "cell_type": "code",
   "execution_count": 4,
   "metadata": {
    "collapsed": true
   },
   "outputs": [],
   "source": [
    "slim.conv2d?"
   ]
  },
  {
   "cell_type": "code",
   "execution_count": 5,
   "metadata": {},
   "outputs": [],
   "source": [
    "# convolution layers with tf.slim\n",
    "net = slim.conv2d(inputs, n_conv1_filter, [n_conv1_patch_size, n_conv1_patch_size], normalizer_fn=slim.batch_norm)\n",
    "net = slim.max_pool2d(net, [3, 3])\n",
    "end_points['conv1'] = net\n",
    "\n",
    "net = slim.conv2d(net, n_conv2_filter, [n_conv1_patch_size, n_conv1_patch_size], normalizer_fn=slim.batch_norm)\n",
    "net = slim.max_pool2d(net, [3, 3])\n",
    "end_points['conv2'] = net\n",
    "\n",
    "net = slim.flatten(net)\n",
    "logits = slim.fully_connected(net, n_output, normalizer_fn=slim.batch_norm, activation_fn=None)   \n",
    "end_points['logits'] = logits"
   ]
  },
  {
   "cell_type": "code",
   "execution_count": 6,
   "metadata": {},
   "outputs": [
    {
     "name": "stdout",
     "output_type": "stream",
     "text": [
      "Layers\n",
      "name = MaxPool2D_1/MaxPool:0, shape = (?, 6, 6, 64)\n",
      "name = MaxPool2D/MaxPool:0, shape = (?, 13, 13, 64)\n",
      "name = fully_connected/BatchNorm/batchnorm/add_1:0, shape = (?, 10)\n",
      "\n",
      "\n",
      "Parameters\n",
      "name = Conv/weights:0, shape = (3, 3, 1, 64)\n",
      "name = Conv/BatchNorm/beta:0, shape = (64,)\n",
      "name = Conv/BatchNorm/moving_mean:0, shape = (64,)\n",
      "name = Conv/BatchNorm/moving_variance:0, shape = (64,)\n",
      "name = Conv_1/weights:0, shape = (3, 3, 64, 64)\n",
      "name = Conv_1/BatchNorm/beta:0, shape = (64,)\n",
      "name = Conv_1/BatchNorm/moving_mean:0, shape = (64,)\n",
      "name = Conv_1/BatchNorm/moving_variance:0, shape = (64,)\n",
      "name = fully_connected/weights:0, shape = (2304, 10)\n",
      "name = fully_connected/BatchNorm/beta:0, shape = (10,)\n",
      "name = fully_connected/BatchNorm/moving_mean:0, shape = (10,)\n",
      "name = fully_connected/BatchNorm/moving_variance:0, shape = (10,)\n"
     ]
    }
   ],
   "source": [
    "# Print name and shape of each tensor.\n",
    "print(\"Layers\")\n",
    "for k, v in end_points.items():\n",
    "    print('name = {}, shape = {}'.format(v.name, v.get_shape()))\n",
    "\n",
    "# Print name and shape of parameter nodes  (values not yet initialized)\n",
    "print(\"\\n\")\n",
    "print(\"Parameters\")\n",
    "for v in slim.get_model_variables():\n",
    "    print('name = {}, shape = {}'.format(v.name, v.get_shape()))"
   ]
  },
  {
   "cell_type": "code",
   "execution_count": 7,
   "metadata": {},
   "outputs": [],
   "source": [
    "# cost function and accuracy\n",
    "cost = tf.reduce_mean(tf.nn.softmax_cross_entropy_with_logits(logits=logits, labels=y))\n",
    "corr = tf.equal(tf.argmax(logits, 1), tf.argmax(y, 1))    \n",
    "accr = tf.reduce_mean(tf.cast(corr, \"float\"))"
   ]
  },
  {
   "cell_type": "code",
   "execution_count": 8,
   "metadata": {
    "collapsed": true
   },
   "outputs": [],
   "source": [
    "# Optimizer\n",
    "learn_rate   = 0.001\n",
    "optm = tf.train.AdamOptimizer(learn_rate).minimize(cost)"
   ]
  },
  {
   "cell_type": "code",
   "execution_count": 9,
   "metadata": {},
   "outputs": [
    {
     "name": "stdout",
     "output_type": "stream",
     "text": [
      "Extracting data/train-images-idx3-ubyte.gz\n",
      "Extracting data/train-labels-idx1-ubyte.gz\n",
      "Extracting data/t10k-images-idx3-ubyte.gz\n",
      "Extracting data/t10k-labels-idx1-ubyte.gz\n"
     ]
    }
   ],
   "source": [
    "# Load dataset\n",
    "mnist = input_data.read_data_sets('data/', one_hot=True)\n",
    "trainImg   = mnist.train.images\n",
    "trainLabel = mnist.train.labels\n",
    "testImg    = mnist.test.images\n",
    "testLabel  = mnist.test.labels"
   ]
  },
  {
   "cell_type": "code",
   "execution_count": 10,
   "metadata": {
    "collapsed": true
   },
   "outputs": [],
   "source": [
    "# Initialize the graph\n",
    "init = tf.global_variables_initializer()\n",
    "sess = tf.Session()\n",
    "sess.run(init)\n",
    "\n",
    "# Training cycle\n",
    "training_epochs = 20\n",
    "batch_size      = 100\n",
    "\n",
    "# Saver \n",
    "save_step = 10;\n",
    "saver = tf.train.Saver(max_to_keep=training_epochs) \n",
    "save_cost_train = []\n",
    "save_cost_test = []\n",
    "save_accr_train = []\n",
    "save_accr_test = []"
   ]
  },
  {
   "cell_type": "code",
   "execution_count": 11,
   "metadata": {},
   "outputs": [
    {
     "name": "stdout",
     "output_type": "stream",
     "text": [
      "Epoch: 000/050\n",
      " Train cost: 0.496647597 accuracy: 0.972\n",
      " Test  cost: 0.432411654 accuracy: 0.986\n",
      "Epoch: 001/050\n",
      " Train cost: 0.420869795 accuracy: 0.988\n",
      " Test  cost: 0.414017403 accuracy: 0.988\n",
      "Epoch: 002/050\n",
      " Train cost: 0.408462953 accuracy: 0.990\n",
      " Test  cost: 0.406291505 accuracy: 0.990\n",
      "Epoch: 003/050\n",
      " Train cost: 0.398343336 accuracy: 0.992\n",
      " Test  cost: 0.399792955 accuracy: 0.991\n",
      "Epoch: 004/050\n",
      " Train cost: 0.393587547 accuracy: 0.992\n",
      " Test  cost: 0.399006892 accuracy: 0.990\n",
      "Epoch: 005/050\n",
      " Train cost: 0.389559965 accuracy: 0.993\n",
      " Test  cost: 0.397944805 accuracy: 0.990\n",
      "Epoch: 006/050\n",
      " Train cost: 0.386465407 accuracy: 0.994\n",
      " Test  cost: 0.397994349 accuracy: 0.990\n",
      "Epoch: 007/050\n",
      " Train cost: 0.383622769 accuracy: 0.994\n",
      " Test  cost: 0.397598376 accuracy: 0.989\n",
      "Epoch: 008/050\n",
      " Train cost: 0.383162053 accuracy: 0.995\n",
      " Test  cost: 0.393597587 accuracy: 0.991\n",
      "Epoch: 009/050\n",
      " Train cost: 0.380224228 accuracy: 0.995\n",
      " Test  cost: 0.392605363 accuracy: 0.991\n",
      "Epoch: 010/050\n",
      " Train cost: 0.378968384 accuracy: 0.995\n",
      " Test  cost: 0.391990781 accuracy: 0.990\n",
      "Epoch: 011/050\n",
      " Train cost: 0.377398622 accuracy: 0.995\n",
      " Test  cost: 0.394558427 accuracy: 0.990\n",
      "Epoch: 012/050\n",
      " Train cost: 0.376482917 accuracy: 0.996\n",
      " Test  cost: 0.387951447 accuracy: 0.992\n",
      "Epoch: 013/050\n",
      " Train cost: 0.375752980 accuracy: 0.996\n",
      " Test  cost: 0.387829839 accuracy: 0.991\n",
      "Epoch: 014/050\n",
      " Train cost: 0.374627750 accuracy: 0.996\n",
      " Test  cost: 0.386781782 accuracy: 0.991\n",
      "Epoch: 015/050\n",
      " Train cost: 0.373250103 accuracy: 0.996\n",
      " Test  cost: 0.387785010 accuracy: 0.990\n",
      "Epoch: 016/050\n",
      " Train cost: 0.372312652 accuracy: 0.996\n",
      " Test  cost: 0.385007985 accuracy: 0.990\n",
      "Epoch: 017/050\n",
      " Train cost: 0.372474075 accuracy: 0.996\n",
      " Test  cost: 0.388854489 accuracy: 0.990\n",
      "Epoch: 018/050\n",
      " Train cost: 0.370763906 accuracy: 0.997\n",
      " Test  cost: 0.388380398 accuracy: 0.989\n",
      "Epoch: 019/050\n",
      " Train cost: 0.370931666 accuracy: 0.997\n",
      " Test  cost: 0.387479030 accuracy: 0.991\n",
      "Epoch: 020/050\n",
      " Train cost: 0.370387708 accuracy: 0.997\n",
      " Test  cost: 0.385120869 accuracy: 0.991\n",
      "Epoch: 021/050\n",
      " Train cost: 0.369879703 accuracy: 0.997\n",
      " Test  cost: 0.386874895 accuracy: 0.991\n",
      "Epoch: 022/050\n",
      " Train cost: 0.369848071 accuracy: 0.997\n",
      " Test  cost: 0.390101136 accuracy: 0.990\n",
      "Epoch: 023/050\n",
      " Train cost: 0.367106577 accuracy: 0.997\n",
      " Test  cost: 0.387254009 accuracy: 0.992\n",
      "Epoch: 024/050\n",
      " Train cost: 0.366412305 accuracy: 0.997\n",
      " Test  cost: 0.388884531 accuracy: 0.990\n",
      "Epoch: 025/050\n",
      " Train cost: 0.366141852 accuracy: 0.997\n",
      " Test  cost: 0.391767184 accuracy: 0.991\n",
      "Epoch: 026/050\n",
      " Train cost: 0.367353474 accuracy: 0.997\n",
      " Test  cost: 0.387403421 accuracy: 0.991\n",
      "Epoch: 027/050\n",
      " Train cost: 0.365304640 accuracy: 0.997\n",
      " Test  cost: 0.386092846 accuracy: 0.990\n",
      "Epoch: 028/050\n",
      " Train cost: 0.366704816 accuracy: 0.997\n",
      " Test  cost: 0.389171788 accuracy: 0.991\n",
      "Epoch: 029/050\n",
      " Train cost: 0.366115206 accuracy: 0.997\n",
      " Test  cost: 0.388000464 accuracy: 0.990\n",
      "Epoch: 030/050\n",
      " Train cost: 0.365094078 accuracy: 0.998\n",
      " Test  cost: 0.389045850 accuracy: 0.990\n",
      "Epoch: 031/050\n",
      " Train cost: 0.365553148 accuracy: 0.998\n",
      " Test  cost: 0.392041245 accuracy: 0.991\n",
      "Epoch: 032/050\n",
      " Train cost: 0.364248221 accuracy: 0.998\n",
      " Test  cost: 0.386778591 accuracy: 0.991\n",
      "Epoch: 033/050\n",
      " Train cost: 0.363882160 accuracy: 0.998\n",
      " Test  cost: 0.386500465 accuracy: 0.992\n",
      "Epoch: 034/050\n",
      " Train cost: 0.365086366 accuracy: 0.998\n",
      " Test  cost: 0.388942138 accuracy: 0.991\n",
      "Epoch: 035/050\n",
      " Train cost: 0.363882294 accuracy: 0.998\n",
      " Test  cost: 0.384739421 accuracy: 0.991\n",
      "Epoch: 036/050\n",
      " Train cost: 0.364385459 accuracy: 0.998\n",
      " Test  cost: 0.387295949 accuracy: 0.991\n",
      "Epoch: 037/050\n",
      " Train cost: 0.363798803 accuracy: 0.998\n",
      " Test  cost: 0.382651519 accuracy: 0.991\n",
      "Epoch: 038/050\n",
      " Train cost: 0.364235155 accuracy: 0.998\n",
      " Test  cost: 0.384813940 accuracy: 0.990\n",
      "Epoch: 039/050\n",
      " Train cost: 0.362268697 accuracy: 0.998\n",
      " Test  cost: 0.386863684 accuracy: 0.991\n",
      "Epoch: 040/050\n",
      " Train cost: 0.362915983 accuracy: 0.998\n",
      " Test  cost: 0.386292513 accuracy: 0.991\n",
      "Epoch: 041/050\n",
      " Train cost: 0.363802089 accuracy: 0.998\n",
      " Test  cost: 0.385833560 accuracy: 0.991\n",
      "Epoch: 042/050\n",
      " Train cost: 0.362498609 accuracy: 0.998\n",
      " Test  cost: 0.384404686 accuracy: 0.991\n",
      "Epoch: 043/050\n",
      " Train cost: 0.362139091 accuracy: 0.998\n",
      " Test  cost: 0.385744056 accuracy: 0.991\n",
      "Epoch: 044/050\n",
      " Train cost: 0.361779925 accuracy: 0.998\n",
      " Test  cost: 0.385013904 accuracy: 0.990\n",
      "Epoch: 045/050\n",
      " Train cost: 0.362026732 accuracy: 0.998\n",
      " Test  cost: 0.385836751 accuracy: 0.990\n",
      "Epoch: 046/050\n",
      " Train cost: 0.363073601 accuracy: 0.998\n",
      " Test  cost: 0.385409573 accuracy: 0.991\n",
      "Epoch: 047/050\n",
      " Train cost: 0.360472309 accuracy: 0.998\n",
      " Test  cost: 0.386348663 accuracy: 0.991\n",
      "Epoch: 048/050\n",
      " Train cost: 0.360765793 accuracy: 0.998\n",
      " Test  cost: 0.382738818 accuracy: 0.990\n",
      "Epoch: 049/050\n",
      " Train cost: 0.361081064 accuracy: 0.998\n",
      " Test  cost: 0.388308313 accuracy: 0.990\n",
      "Optimization Finished.\n"
     ]
    }
   ],
   "source": [
    "# Training\n",
    "for epoch in range(training_epochs):    \n",
    "    cost_train_avg = 0.\n",
    "    accr_train_avg = 0.\n",
    "    num_batch = int(mnist.train.num_examples/batch_size)\n",
    "    # Loop over all batches\n",
    "    for i in range(num_batch):\n",
    "        batch_xs, batch_ys = mnist.train.next_batch(batch_size)        \n",
    "        # Fit training using batch data\n",
    "        sess.run(optm, feed_dict={x: batch_xs, y: batch_ys})\n",
    "        # Training cost\n",
    "        cost_train_avg += sess.run(cost, feed_dict={x: batch_xs, y: batch_ys})/num_batch\n",
    "        accr_train_avg += sess.run(accr, feed_dict={x: batch_xs, y: batch_ys})/num_batch\n",
    "        \n",
    "    # Display logs per epoch step \n",
    "    save_cost_train.append(cost_train_avg)\n",
    "    save_accr_train.append(accr_train_avg)\n",
    "    print (\"Epoch: %03d/%03d\" % (epoch, training_epochs))\n",
    "    print (\" Train cost: %.9f accuracy: %.3f\" % (cost_train_avg, accr_train_avg))\n",
    "    \n",
    "    # Test\n",
    "    num_batch = int(mnist.test.num_examples/batch_size)\n",
    "    cost_test_avg = 0.\n",
    "    accr_test_avg = 0.\n",
    "    for i in range(num_batch):\n",
    "        batch_xs, batch_ys = mnist.test.next_batch(batch_size)\n",
    "        cost_test_avg += sess.run(cost, feed_dict={x: batch_xs, y: batch_ys})/num_batch\n",
    "        accr_test_avg += sess.run(accr, feed_dict={x: batch_xs, y: batch_ys})/num_batch\n",
    "    \n",
    "    save_cost_test.append(cost_test_avg)\n",
    "    save_accr_test.append(accr_test_avg)\n",
    "    print (\" Test  cost: %.9f accuracy: %.3f\" % (cost_test_avg, accr_test_avg))\n",
    "\n",
    "    # Save Net\n",
    "    if epoch % save_step == 0:\n",
    "        saver.save(sess, \"net/cnn_mnist.ckpt-\" + str(epoch))\n",
    "\n",
    "print (\"Optimization Finished.\")"
   ]
  },
  {
   "cell_type": "code",
   "execution_count": 12,
   "metadata": {},
   "outputs": [
    {
     "data": {
      "text/plain": [
       "[<matplotlib.lines.Line2D at 0x7f2099078b50>,\n",
       " <matplotlib.lines.Line2D at 0x7f2099078dd0>]"
      ]
     },
     "execution_count": 12,
     "metadata": {},
     "output_type": "execute_result"
    },
    {
     "data": {
      "image/png": "[encoded data removed]",
      "text/plain": [
       "<matplotlib.figure.Figure at 0x7f20b02915d0>"
      ]
     },
     "metadata": {},
     "output_type": "display_data"
    }
   ],
   "source": [
    "# Traininig curve\n",
    "epochs = range(training_epochs)\n",
    "plt.subplot(211)\n",
    "plt.plot(epochs, save_cost_train, epochs, save_cost_test)\n",
    "plt.subplot(212)\n",
    "plt.plot(epochs, save_accr_train, epochs, save_accr_test)"
   ]
  },
  {
   "cell_type": "code",
   "execution_count": 13,
   "metadata": {},
   "outputs": [
    {
     "data": {
      "text/plain": [
       "37"
      ]
     },
     "execution_count": 13,
     "metadata": {},
     "output_type": "execute_result"
    }
   ],
   "source": [
    "np.argmin(save_cost_test)"
   ]
  },
  {
   "cell_type": "code",
   "execution_count": null,
   "metadata": {
    "collapsed": true
   },
   "outputs": [],
   "source": []
  }
 ],
 "metadata": {
  "kernelspec": {
   "display_name": "Python 2",
   "language": "python",
   "name": "python2"
  },
  "language_info": {
   "codemirror_mode": {
    "name": "ipython",
    "version": 2
   },
   "file_extension": ".py",
   "mimetype": "text/x-python",
   "name": "python",
   "nbconvert_exporter": "python",
   "pygments_lexer": "ipython2",
   "version": "2.7.6"
  }
 },
 "nbformat": 4,
 "nbformat_minor": 2
}
