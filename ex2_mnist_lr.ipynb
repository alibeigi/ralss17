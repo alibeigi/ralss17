{
 "cells": [
  {
   "cell_type": "markdown",
   "metadata": {},
   "source": [
    "## MNIST Logistic Regression\n",
    "### Goals\n",
    "* TensorFlow (TF) basics\n",
    "\n",
    "### Contents\n",
    "* How to use TF operators\n",
    "* How to build a neural network model with TF"
   ]
  },
  {
   "cell_type": "code",
   "execution_count": 1,
   "metadata": {
    "collapsed": true
   },
   "outputs": [],
   "source": [
    "# import\n",
    "import numpy as np\n",
    "import tensorflow as tf\n",
    "import matplotlib.pyplot as plt\n",
    "from tensorflow.examples.tutorials.mnist import input_data\n",
    "%matplotlib inline  "
   ]
  },
  {
   "cell_type": "code",
   "execution_count": 2,
   "metadata": {},
   "outputs": [
    {
     "data": {
      "text/plain": [
       "TensorShape([Dimension(2), Dimension(2)])"
      ]
     },
     "execution_count": 2,
     "metadata": {},
     "output_type": "execute_result"
    }
   ],
   "source": [
    "# What is a tensor?\n",
    "# https://www.tensorflow.org/api_docs/python/tf/Tensor\n",
    "c = tf.constant([[1.0, 2.0], [3.0, 4.0]])\n",
    "c?\n",
    "c.shape"
   ]
  },
  {
   "cell_type": "code",
   "execution_count": 3,
   "metadata": {
    "collapsed": true
   },
   "outputs": [],
   "source": [
    "# What is tf operators?\n",
    "# https://www.tensorflow.org/api_guides/python/math_ops\n",
    "d = tf.constant([[1.0, 1.0], [0.0, 1.0]])\n",
    "e = tf.matmul(c, d)"
   ]
  },
  {
   "cell_type": "code",
   "execution_count": 4,
   "metadata": {},
   "outputs": [
    {
     "name": "stdout",
     "output_type": "stream",
     "text": [
      "[[ 1.  3.]\n",
      " [ 3.  7.]]\n"
     ]
    }
   ],
   "source": [
    "# Evaluation\n",
    "sess = tf.Session()\n",
    "result = sess.run(e)    # result is ndarray\n",
    "print(result)"
   ]
  },
  {
   "cell_type": "markdown",
   "metadata": {},
   "source": [
    "### DRAW HERE! Convolutional filter variable size"
   ]
  },
  {
   "cell_type": "code",
   "execution_count": 5,
   "metadata": {
    "collapsed": true
   },
   "outputs": [],
   "source": [
    "# Create a static graph for logistic regression\n",
    "# Input and output as tf.placeholder,\n",
    "# and weight variables as tf.Variable\n",
    "x = tf.placeholder(\"float\", [None, 784])\n",
    "y = tf.placeholder(\"float\", [None, 10])\n",
    "\n",
    "# You can initialize the tf variable with other tf tensors\n",
    "W = tf.Variable(tf.zeros([784, 10]))  \n",
    "b = tf.Variable(tf.zeros([10]))\n",
    "\n",
    "logits = tf.matmul(x, W) + b"
   ]
  },
  {
   "cell_type": "code",
   "execution_count": 6,
   "metadata": {
    "collapsed": true
   },
   "outputs": [],
   "source": [
    "# cost function\n",
    "# https://www.tensorflow.org/api_guides/python/nn#Losses\n",
    "cost = tf.reduce_mean(tf.nn.sigmoid_cross_entropy_with_logits(logits = logits, labels = y))"
   ]
  },
  {
   "cell_type": "code",
   "execution_count": 7,
   "metadata": {
    "collapsed": true
   },
   "outputs": [],
   "source": [
    "# Optimizer\n",
    "# https://www.tensorflow.org/api_guides/python/train#Optimizers\n",
    "learning_rate = 0.01\n",
    "optimizer = tf.train.GradientDescentOptimizer(learning_rate).minimize(cost)"
   ]
  },
  {
   "cell_type": "code",
   "execution_count": 8,
   "metadata": {
    "collapsed": true
   },
   "outputs": [],
   "source": [
    "# Create a static graph for logistic regression\n",
    "# Input and output as tf.placeholder,\n",
    "# and weight variables as tf.Variable\n",
    "x = tf.placeholder(\"float\", [None, 784])\n",
    "y = tf.placeholder(\"float\", [None, 10])\n",
    "\n",
    "# You can initialize the tf variable with other tf tensors\n",
    "W = tf.Variable(tf.zeros([784, 10]))  \n",
    "b = tf.Variable(tf.zeros([10]))\n",
    "\n",
    "logits = tf.matmul(x, W) + b"
   ]
  },
  {
   "cell_type": "code",
   "execution_count": 9,
   "metadata": {
    "collapsed": true
   },
   "outputs": [],
   "source": [
    "# cost function\n",
    "# https://www.tensorflow.org/api_guides/python/nn#Losses\n",
    "cost = tf.reduce_mean(tf.nn.sigmoid_cross_entropy_with_logits(logits = logits, labels = y))"
   ]
  },
  {
   "cell_type": "code",
   "execution_count": 10,
   "metadata": {
    "collapsed": true
   },
   "outputs": [],
   "source": [
    "# Optimizer\n",
    "# https://www.tensorflow.org/api_guides/python/train#Optimizers\n",
    "learn_rate = 0.01\n",
    "optm = tf.train.GradientDescentOptimizer(learn_rate).minimize(cost)"
   ]
  },
  {
   "cell_type": "code",
   "execution_count": 11,
   "metadata": {},
   "outputs": [],
   "source": [
    "# Accruracy evaluation\n",
    "corr = tf.equal(tf.argmax(logits, 1), tf.argmax(y, 1))    \n",
    "accr = tf.reduce_mean(tf.cast(corr, \"float\"))"
   ]
  },
  {
   "cell_type": "code",
   "execution_count": 12,
   "metadata": {},
   "outputs": [
    {
     "name": "stdout",
     "output_type": "stream",
     "text": [
      "Extracting data/train-images-idx3-ubyte.gz\n",
      "Extracting data/train-labels-idx1-ubyte.gz\n",
      "Extracting data/t10k-images-idx3-ubyte.gz\n",
      "Extracting data/t10k-labels-idx1-ubyte.gz\n"
     ]
    }
   ],
   "source": [
    "# Load dataset\n",
    "mnist = input_data.read_data_sets('data/', one_hot=True)\n",
    "trainImg   = mnist.train.images\n",
    "trainLabel = mnist.train.labels\n",
    "testImg    = mnist.test.images\n",
    "testLabel  = mnist.test.labels"
   ]
  },
  {
   "cell_type": "code",
   "execution_count": 13,
   "metadata": {
    "collapsed": true
   },
   "outputs": [],
   "source": [
    "# Initialize the graph\n",
    "init = tf.global_variables_initializer()\n",
    "\n",
    "# Training cycle\n",
    "training_epochs = 50\n",
    "batch_size      = 100\n",
    "\n",
    "# save \n",
    "save_cost = []\n",
    "save_accr = []"
   ]
  },
  {
   "cell_type": "code",
   "execution_count": 16,
   "metadata": {
    "scrolled": true
   },
   "outputs": [
    {
     "name": "stdout",
     "output_type": "stream",
     "text": [
      "Epoch: 000/050 cost: 0.365334638 train_acc: 0.726\n",
      "Epoch: 001/050 cost: 0.275513337 train_acc: 0.760\n",
      "Epoch: 002/050 cost: 0.245153714 train_acc: 0.780\n",
      "Epoch: 003/050 cost: 0.223635283 train_acc: 0.796\n",
      "Epoch: 004/050 cost: 0.207221926 train_acc: 0.804\n",
      "Epoch: 005/050 cost: 0.194422008 train_acc: 0.814\n",
      "Epoch: 006/050 cost: 0.184142347 train_acc: 0.822\n",
      "Epoch: 007/050 cost: 0.175629972 train_acc: 0.827\n",
      "Epoch: 008/050 cost: 0.169683297 train_acc: 0.825\n",
      "Epoch: 009/050 cost: 0.163862658 train_acc: 0.831\n",
      "Epoch: 010/050 cost: 0.159016688 train_acc: 0.834\n",
      "Epoch: 011/050 cost: 0.154744371 train_acc: 0.835\n",
      "Epoch: 012/050 cost: 0.151101166 train_acc: 0.837\n",
      "Epoch: 013/050 cost: 0.147892638 train_acc: 0.842\n",
      "Epoch: 014/050 cost: 0.144450042 train_acc: 0.843\n",
      "Epoch: 015/050 cost: 0.141542632 train_acc: 0.845\n",
      "Epoch: 016/050 cost: 0.139417501 train_acc: 0.845\n",
      "Epoch: 017/050 cost: 0.136743886 train_acc: 0.846\n",
      "Epoch: 018/050 cost: 0.134629381 train_acc: 0.849\n",
      "Epoch: 019/050 cost: 0.132584783 train_acc: 0.853\n",
      "Epoch: 020/050 cost: 0.130676738 train_acc: 0.852\n",
      "Epoch: 021/050 cost: 0.129064180 train_acc: 0.855\n",
      "Epoch: 022/050 cost: 0.127027679 train_acc: 0.857\n",
      "Epoch: 023/050 cost: 0.126548907 train_acc: 0.856\n",
      "Epoch: 024/050 cost: 0.124979931 train_acc: 0.856\n",
      "Epoch: 025/050 cost: 0.123698823 train_acc: 0.856\n",
      "Epoch: 026/050 cost: 0.123136672 train_acc: 0.856\n",
      "Epoch: 027/050 cost: 0.121811311 train_acc: 0.857\n",
      "Epoch: 028/050 cost: 0.120347084 train_acc: 0.858\n",
      "Epoch: 029/050 cost: 0.119222399 train_acc: 0.862\n",
      "Epoch: 030/050 cost: 0.118442496 train_acc: 0.861\n",
      "Epoch: 031/050 cost: 0.116488903 train_acc: 0.864\n",
      "Epoch: 032/050 cost: 0.116252425 train_acc: 0.863\n",
      "Epoch: 033/050 cost: 0.115235569 train_acc: 0.865\n",
      "Epoch: 034/050 cost: 0.113997772 train_acc: 0.867\n",
      "Epoch: 035/050 cost: 0.113078813 train_acc: 0.865\n",
      "Epoch: 036/050 cost: 0.112846801 train_acc: 0.867\n",
      "Epoch: 037/050 cost: 0.112126685 train_acc: 0.866\n",
      "Epoch: 038/050 cost: 0.112212507 train_acc: 0.866\n",
      "Epoch: 039/050 cost: 0.111309893 train_acc: 0.868\n",
      "Epoch: 040/050 cost: 0.110588047 train_acc: 0.867\n",
      "Epoch: 041/050 cost: 0.110132159 train_acc: 0.867\n",
      "Epoch: 042/050 cost: 0.108858201 train_acc: 0.870\n",
      "Epoch: 043/050 cost: 0.109161790 train_acc: 0.870\n",
      "Epoch: 044/050 cost: 0.108314116 train_acc: 0.869\n",
      "Epoch: 045/050 cost: 0.107370763 train_acc: 0.870\n",
      "Epoch: 046/050 cost: 0.107722828 train_acc: 0.869\n",
      "Epoch: 047/050 cost: 0.106445233 train_acc: 0.871\n",
      "Epoch: 048/050 cost: 0.106244062 train_acc: 0.871\n",
      "Epoch: 049/050 cost: 0.105300859 train_acc: 0.872\n",
      "Optimization Finished!\n"
     ]
    }
   ],
   "source": [
    "# Training\n",
    "with tf.Session() as sess:   \n",
    "    sess.run(init)\n",
    "    for epoch in range(training_epochs):\n",
    "        avg_cost = 0.\n",
    "        avg_train_acc = 0.\n",
    "        num_batch = int(mnist.train.num_examples/batch_size)\n",
    "        # Loop over all batches\n",
    "        for i in range(num_batch): \n",
    "            if 0: # Using tensorflow API\n",
    "                batch_xs, batch_ys = mnist.train.next_batch(batch_size)\n",
    "            else: # Random batch sampling \n",
    "                randidx = np.random.randint(trainImg.shape[0], size=batch_size)\n",
    "                batch_xs = trainImg[randidx, :]\n",
    "                batch_ys = trainLabel[randidx, :]                \n",
    "\n",
    "            # Fit training using batch data\n",
    "            sess.run(optm, feed_dict={x: batch_xs, y: batch_ys})\n",
    "            \n",
    "            # Compute average loss\n",
    "            avg_cost += sess.run(cost, feed_dict={x: batch_xs, y: batch_ys})/num_batch\n",
    "            avg_train_acc += sess.run(accr, feed_dict={x: batch_xs, y: batch_ys})/num_batch\n",
    "        \n",
    "        save_cost.append(avg_cost)\n",
    "        save_accr.append(avg_train_acc)\n",
    "        # Display logs per epoch step\n",
    "        print (\"Epoch: %03d/%03d cost: %.9f train_acc: %.3f\" \n",
    "                   % (epoch, training_epochs, avg_cost, avg_train_acc))\n",
    "\n",
    "print (\"Optimization Finished!\")"
   ]
  },
  {
   "cell_type": "code",
   "execution_count": 17,
   "metadata": {},
   "outputs": [
    {
     "data": {
      "text/plain": [
       "[<matplotlib.lines.Line2D at 0x7fc9ec84c7d0>]"
      ]
     },
     "execution_count": 17,
     "metadata": {},
     "output_type": "execute_result"
    },
    {
     "data": {
      "image/png": "[encoded data removed]",
      "text/plain": [
       "<matplotlib.figure.Figure at 0x7fc9ec851550>"
      ]
     },
     "metadata": {},
     "output_type": "display_data"
    }
   ],
   "source": [
    "# Traininig curve\n",
    "epochs = range(training_epochs)\n",
    "plt.subplot(211)\n",
    "plt.plot(epochs, save_cost)\n",
    "plt.subplot(212)\n",
    "plt.plot(epochs, save_accr)"
   ]
  },
  {
   "cell_type": "code",
   "execution_count": null,
   "metadata": {
    "collapsed": true
   },
   "outputs": [],
   "source": []
  }
 ],
 "metadata": {
  "kernelspec": {
   "display_name": "Python 2",
   "language": "python",
   "name": "python2"
  },
  "language_info": {
   "codemirror_mode": {
    "name": "ipython",
    "version": 2
   },
   "file_extension": ".py",
   "mimetype": "text/x-python",
   "name": "python",
   "nbconvert_exporter": "python",
   "pygments_lexer": "ipython2",
   "version": "2.7.6"
  }
 },
 "nbformat": 4,
 "nbformat_minor": 2
}
