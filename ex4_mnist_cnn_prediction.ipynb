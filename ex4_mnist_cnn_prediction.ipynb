{
 "cells": [
  {
   "cell_type": "markdown",
   "metadata": {},
   "source": [
    "## MNIST classification\n",
    "### Goals\n",
    "* Restoring the trained model with TensorFlow\n",
    "\n",
    "### Contents\n",
    "* How to load a model with a check point"
   ]
  },
  {
   "cell_type": "code",
   "execution_count": 1,
   "metadata": {
    "collapsed": true
   },
   "outputs": [],
   "source": [
    "import numpy as np\n",
    "import matplotlib.pyplot as plt\n",
    "import tensorflow as tf\n",
    "from tensorflow.examples.tutorials.mnist import input_data\n",
    "%matplotlib inline  "
   ]
  },
  {
   "cell_type": "code",
   "execution_count": 2,
   "metadata": {
    "collapsed": true
   },
   "outputs": [],
   "source": [
    "# Build the same network model used for training\n",
    "\n",
    "# Model parameters\n",
    "# input\n",
    "n_input_width = 28\n",
    "n_input_height = 28\n",
    "n_input_channel = 1\n",
    "\n",
    "# 1st convolutional layer\n",
    "n_conv1_patch_size = 3 \n",
    "n_conv1_filter = 64\n",
    "\n",
    "# 2nd convolutional layer\n",
    "n_conv2_patch_size = 3 \n",
    "n_conv2_filter = 64\n",
    "\n",
    "# fully connected output layer\n",
    "n_output  = 10 \n",
    "\n",
    "# input and output placeholders\n",
    "x = tf.placeholder(tf.float32, [None, n_input_width * n_input_height * n_input_channel])\n",
    "y = tf.placeholder(tf.float32, [None, n_output])\n",
    "\n",
    "# 1st convolutional layer variables\n",
    "wc1 = tf.Variable(tf.random_normal([n_conv1_patch_size, n_conv1_patch_size, n_input_channel, n_conv1_filter], stddev=0.1))\n",
    "bc1 = tf.Variable(tf.random_normal([n_conv1_filter], stddev=0.1))\n",
    "\n",
    "# 2nd convolutional layer variables\n",
    "wc2 = tf.Variable(tf.random_normal([n_conv2_patch_size, n_conv2_patch_size, n_conv1_filter, n_conv2_filter], stddev=0.1))\n",
    "bc2 = tf.Variable(tf.random_normal([n_conv2_filter], stddev=0.1))\n",
    "\n",
    "# fully connected output layer\n",
    "# size reduced by four (2 pooling layers)\n",
    "wf = tf.Variable(tf.random_normal([(n_input_width/4)*(n_input_height/4)*n_conv2_filter, n_output], stddev=0.1))\n",
    "bf = tf.Variable(tf.random_normal([n_output], stddev=0.1))\n",
    "\n",
    "# Reshape input: one hot vector to w x w x c tensor\n",
    "input_r = tf.reshape(x, shape=[-1, n_input_width, n_input_width, n_input_channel])\n",
    "\n",
    "# 1st Convolution layer: conv + bias + relu + pooling\n",
    "# TensorFlow operators for CNNs\n",
    "# https://www.tensorflow.org/api_guides/python/nn#Convolution\n",
    "conv1 = tf.nn.conv2d(input_r, wc1, strides=[1, 1, 1, 1], padding='SAME')\n",
    "bias1 = tf.nn.bias_add(conv1, bc1)\n",
    "relu1 = tf.nn.relu(bias1)\n",
    "pool1  = tf.nn.max_pool(relu1, ksize=[1, 2, 2, 1], strides=[1, 2, 2, 1], padding='SAME')\n",
    "\n",
    "# 2nd Convolution layer\n",
    "conv2 = tf.nn.conv2d(pool1, wc2, strides=[1, 1, 1, 1], padding='SAME')\n",
    "bias2 = tf.nn.bias_add(conv2, bc2)\n",
    "relu2 = tf.nn.relu(bias2)\n",
    "pool2  = tf.nn.max_pool(relu2, ksize=[1, 2, 2, 1], strides=[1, 2, 2, 1], padding='SAME')\n",
    "\n",
    "# Vectorize\n",
    "dense = tf.reshape(pool2, [-1, wf.get_shape().as_list()[0]])\n",
    "\n",
    "# Fully-connected layer\n",
    "logits = tf.add(tf.matmul(dense, wf), bf)\n",
    "\n",
    "# cost function and accuracy\n",
    "corr = tf.equal(tf.argmax(logits, 1), tf.argmax(y, 1))    \n",
    "accr = tf.reduce_mean(tf.cast(corr, \"float\"))"
   ]
  },
  {
   "cell_type": "code",
   "execution_count": 3,
   "metadata": {},
   "outputs": [
    {
     "name": "stdout",
     "output_type": "stream",
     "text": [
      "INFO:tensorflow:Restoring parameters from net/cnn_mnist.ckpt-10\n"
     ]
    }
   ],
   "source": [
    "# Load the saved model\n",
    "n_check = 10\n",
    "path = \"net/cnn_mnist.ckpt-\" + str(n_check)\n",
    "\n",
    "sess = tf.Session()\n",
    "saver = tf.train.Saver()\n",
    "saver.restore(sess, path)"
   ]
  },
  {
   "cell_type": "code",
   "execution_count": 4,
   "metadata": {},
   "outputs": [
    {
     "name": "stdout",
     "output_type": "stream",
     "text": [
      "Extracting data/train-images-idx3-ubyte.gz\n",
      "Extracting data/train-labels-idx1-ubyte.gz\n",
      "Extracting data/t10k-images-idx3-ubyte.gz\n",
      "Extracting data/t10k-labels-idx1-ubyte.gz\n"
     ]
    }
   ],
   "source": [
    "# MNIST dataset\n",
    "mnist = input_data.read_data_sets('data/', one_hot=True)\n",
    "testImg    = mnist.test.images\n",
    "testLabel  = mnist.test.labels"
   ]
  },
  {
   "cell_type": "code",
   "execution_count": 6,
   "metadata": {
    "scrolled": true
   },
   "outputs": [
    {
     "name": "stdout",
     "output_type": "stream",
     "text": [
      "Test accuracy: 0.990\n"
     ]
    }
   ],
   "source": [
    "# Inference\n",
    "batch_size = 100\n",
    "num_batch = int(mnist.test.num_examples/batch_size)\n",
    "accr_test_avg = 0.\n",
    "for i in range(num_batch):\n",
    "    batch_xs, batch_ys = mnist.test.next_batch(batch_size)\n",
    "    accr_test_avg += sess.run(accr, feed_dict={x: batch_xs, y: batch_ys})/num_batch\n",
    "print (\"Test accuracy: %.3f\" % (accr_test_avg))"
   ]
  },
  {
   "cell_type": "code",
   "execution_count": 13,
   "metadata": {},
   "outputs": [
    {
     "name": "stdout",
     "output_type": "stream",
     "text": [
      "335.920 ms for 10000 images\n"
     ]
    }
   ],
   "source": [
    "# Let's measure the inference time\n",
    "import time\n",
    "t1 = time.time()\n",
    "for i in range(num_batch):\n",
    "    batch_xs, batch_ys = mnist.test.next_batch(batch_size)\n",
    "    accr_test_avg += sess.run(accr, feed_dict={x: batch_xs, y: batch_ys})/num_batch\n",
    "t2 = time.time()\n",
    "print ('%0.3f ms for %d images' % ((t2-t1)*1000.0, mnist.test.num_examples))"
   ]
  }
 ],
 "metadata": {
  "kernelspec": {
   "display_name": "Python 2",
   "language": "python",
   "name": "python2"
  },
  "language_info": {
   "codemirror_mode": {
    "name": "ipython",
    "version": 2
   },
   "file_extension": ".py",
   "mimetype": "text/x-python",
   "name": "python",
   "nbconvert_exporter": "python",
   "pygments_lexer": "ipython2",
   "version": "2.7.12"
  }
 },
 "nbformat": 4,
 "nbformat_minor": 2
}
