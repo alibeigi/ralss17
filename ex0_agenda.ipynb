{
 "cells": [
  {
   "cell_type": "markdown",
   "metadata": {},
   "source": [
    "### Objectives\n",
    "* Practical exercises to learn how to implement deep neural network models with real data\n",
    "\n",
    "### What we learn\n",
    "* Basic and core APIs to use Google TensorFlow library \n",
    "* How to build Neural Network models and train them\n",
    "* How to handle image data in Python\n",
    "\n",
    "### What we do not learn\n",
    "* High-level APIs (Keras or TF-Slim) \n",
    "* Application-specific complex NN models\n",
    "* Theoritical background about neural networks (What is convolution, activation functions, optimization methods)\n",
    "\n",
    "### Model and data\n",
    "* Model\n",
    " * Custom model vs Public model (VGG, ResNet, InceptionNet)\n",
    " * Low-level (tf.conv2d) APIs vs High-level APIs (tf.slim.conv2d, Keras)\n",
    "* Data\n",
    " * Custom data vs Public data (MNIST, ImageNet, Pascal)\n",
    " * Low-level APIs (numpy) vs High-level APIs (.tfrecords)\n",
    "\n",
    "### TensorFlow \n",
    "* https://www.tensorflow.org/\n",
    "* Python-based open-source library for machine learning with GPU support\n",
    "* Similar libraries\n",
    " * Theano (Python): http://www.deeplearning.net/software/theano/#\n",
    " * Torch (Lua): http://torch.ch/\n",
    " * PyTorch (Python): http://pytorch.org/\n",
    " * Caffe (C++, Python bindinds): http://caffe.berkeleyvision.org/\n",
    " * Caffe2 (C++, Python bindinds): https://caffe2.ai/\n",
    "\n",
    "### Contents\n",
    "* Public dataset with low-level API\n",
    " * *ex1_mnist*\n",
    "\n",
    "\n",
    "* Custom model with low-level API\n",
    " * *ex2_mnist_lr*\n",
    " * *ex3_mnist_cnn_train*\n",
    " * *ex4_mnist_cnn_prediction*\n",
    "\n",
    "\n",
    "* Custom model with high-level API\n",
    " * *ex5_cnn_tfslim*\n",
    "\n",
    "\n",
    "* Custom data\n",
    " * *ex6_custom_data*\n",
    "\n",
    "\n",
    "* Public model\n",
    " * *ex7_cnn_customdata_vgg_finetune*\n",
    "\n",
    "\n",
    "* Public dataset with high-level API\n",
    " * *ex8_pascal_tfrecord*"
   ]
  },
  {
   "cell_type": "code",
   "execution_count": null,
   "metadata": {
    "collapsed": true
   },
   "outputs": [],
   "source": []
  }
 ],
 "metadata": {
  "kernelspec": {
   "display_name": "Python 2",
   "language": "python",
   "name": "python2"
  },
  "language_info": {
   "codemirror_mode": {
    "name": "ipython",
    "version": 2
   },
   "file_extension": ".py",
   "mimetype": "text/x-python",
   "name": "python",
   "nbconvert_exporter": "python",
   "pygments_lexer": "ipython2",
   "version": "2.7.12"
  }
 },
 "nbformat": 4,
 "nbformat_minor": 2
}
